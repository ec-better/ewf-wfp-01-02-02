{
 "cells": [
  {
   "cell_type": "markdown",
   "metadata": {},
   "source": [
    "## WFP-01-02-02 Landsat-8 reflectances and vegetation indices"
   ]
  },
  {
   "cell_type": "markdown",
   "metadata": {},
   "source": [
    "As a land cover change analyst I want to derive the vegetation indices (NDVI, NDWI, MNDWI, NDBI) from Landsat-8 products."
   ]
  },
  {
   "cell_type": "markdown",
   "metadata": {},
   "source": [
    "### <a name=\"service\">Service Definition"
   ]
  },
  {
   "cell_type": "code",
   "execution_count": 118,
   "metadata": {
    "collapsed": true
   },
   "outputs": [],
   "source": [
    "service = dict([('title', 'WFP-01-02-02 Landsat-8 reflectances and vegetation indices'),\n",
    "                ('abstract', 'WFP-01-02-02 Landsat-8 reflectances and vegetation indices'),\n",
    "                ('id', 'ewf-wfp-01-02-02')])"
   ]
  },
  {
   "cell_type": "markdown",
   "metadata": {},
   "source": [
    "### <a name=\"parameter\">Parameter Definition "
   ]
  },
  {
   "cell_type": "markdown",
   "metadata": {},
   "source": [
    "**None**\n"
   ]
  },
  {
   "cell_type": "markdown",
   "metadata": {},
   "source": [
    "### <a name=\"runtime\">Runtime parameter definition"
   ]
  },
  {
   "cell_type": "markdown",
   "metadata": {},
   "source": [
    "**Downloaded product**\n",
    "\n",
    "This is the downloaded Landsat-8 product reference path "
   ]
  },
  {
   "cell_type": "code",
   "execution_count": 119,
   "metadata": {
    "collapsed": true,
    "slideshow": {
     "slide_type": "-"
    }
   },
   "outputs": [],
   "source": [
    "downloaded_reference = '/workspace/data/LC81540332017216LGN00.tar'#'LC08_L1TP_154033_20170804_20170812_01_T1'"
   ]
  },
  {
   "cell_type": "markdown",
   "metadata": {},
   "source": [
    "**Input reference**\n",
    "\n",
    "This is the Landsat-8 catalogue reference"
   ]
  },
  {
   "cell_type": "code",
   "execution_count": 120,
   "metadata": {
    "collapsed": false
   },
   "outputs": [],
   "source": [
    "input_reference = 'https://catalog.terradue.com/landsat8/search?format=atom&uid=LC08_L1TP_154033_20170804_20170812_01_T1'"
   ]
  },
  {
   "cell_type": "markdown",
   "metadata": {},
   "source": [
    "### <a name=\"workflow\">Workflow"
   ]
  },
  {
   "cell_type": "markdown",
   "metadata": {},
   "source": [
    "#### Import the packages required for processing the Landsat-8 vegetation indices"
   ]
  },
  {
   "cell_type": "code",
   "execution_count": 121,
   "metadata": {
    "collapsed": true
   },
   "outputs": [],
   "source": [
    "import os\n",
    "import sys\n",
    "import glob\n",
    "import tarfile\n",
    "\n",
    "sys.path.append('/opt/OTB-6.2.0/lib/python')\n",
    "sys.path.append('/opt/OTB-6.2.0/lib/libfftw3.so.3')\n",
    "os.environ['OTB_APPLICATION_PATH'] = '/opt/OTB-6.2.0/lib/otb/applications'\n",
    "os.environ['LD_LIBRARY_PATH'] = '/opt/OTB-6.2.0/lib'\n",
    "os.environ['ITK_AUTOLOAD_PATH'] = '/opt/OTB-6.2.0/lib/otb/applications'\n",
    "os.environ['GDAL_DATA'] = '/opt/anaconda/share/gdal/'\n",
    "import otbApplication\n",
    "\n",
    "import cioppy\n",
    "\n",
    "import lxml.etree as etree\n",
    "\n",
    "from shapely.wkt import loads\n",
    "\n",
    "import gdal\n",
    "import osr\n",
    "\n",
    "from shapely.geometry import box\n",
    "\n",
    "import numpy as np\n"
   ]
  },
  {
   "cell_type": "code",
   "execution_count": 122,
   "metadata": {
    "collapsed": true
   },
   "outputs": [],
   "source": [
    "def get_attribute(mtl_path, attribute):\n",
    "    \n",
    "    mtl = open(mtl_path, 'r')\n",
    "    attribs = mtl.readlines()\n",
    "        \n",
    "    for line in attribs:\n",
    "        \n",
    "        if attribute + ' = ' in line:\n",
    "            return line.split('=')[1].rstrip().strip(' ').strip('\"\"')\n",
    "      "
   ]
  },
  {
   "cell_type": "code",
   "execution_count": 123,
   "metadata": {
    "collapsed": true
   },
   "outputs": [],
   "source": [
    "def offset(band):\n",
    "    \n",
    "    return get_attribute(ls8_metadata, 'REFLECTANCE_ADD_BAND_' + str(band))"
   ]
  },
  {
   "cell_type": "code",
   "execution_count": 124,
   "metadata": {
    "collapsed": true
   },
   "outputs": [],
   "source": [
    "def gain(band):\n",
    "    \n",
    "    return get_attribute(ls8_metadata, 'REFLECTANCE_MULT_BAND_' + str(band))"
   ]
  },
  {
   "cell_type": "code",
   "execution_count": 125,
   "metadata": {
    "collapsed": true
   },
   "outputs": [],
   "source": [
    "def dn_to_reflectance(band, metadata):\n",
    "    \n",
    "    output_name = '%s_R%s.TIF' % (get_attribute(ls8_metadata, 'LANDSAT_PRODUCT_ID'),\n",
    "                                                     str(band))\n",
    "    \n",
    "    metadata_name = '%s_R%s.xml' % (get_attribute(ls8_metadata, 'LANDSAT_PRODUCT_ID'),\n",
    "                                                     str(band))\n",
    "    ls8_gain = gain(band)\n",
    "    ls8_offset = offset(band)\n",
    "    ls8_band_filename = get_attribute(ls8_metadata, 'FILE_NAME_BAND_' + str(band))\n",
    "    \n",
    "    otb_app = otbApplication.Registry.CreateApplication('BandMath')\n",
    "\n",
    "    otb_app.SetParameterStringList('il', [ls8_band_filename])\n",
    "\n",
    "    otb_app.SetParameterString('out', output_name)\n",
    "    \n",
    "    otb_app.SetParameterString('exp', '%s * im1b1 + %s' % (ls8_gain, ls8_offset))\n",
    "\n",
    "    otb_app.ExecuteAndWriteOutput()\n",
    "    \n",
    "    wkt = get_wkt(output_name)\n",
    "    \n",
    "    metadata['identifier'] = output_name\n",
    "\n",
    "    with open(metadata_name, 'wb') as file:\n",
    "        file.write('<?xml version=\"1.0\" encoding=\"UTF-8\"?>\\n')\n",
    "        file.write(eop_metadata(metadata))    \n",
    "    \n",
    "    return True\n",
    "    "
   ]
  },
  {
   "cell_type": "code",
   "execution_count": 126,
   "metadata": {
    "collapsed": true
   },
   "outputs": [],
   "source": [
    "def normalized_difference(band_1, band_2, metadata, suffix = ''):\n",
    "    \n",
    "    output_name = '%s_%s.TIF' % (get_attribute(ls8_metadata, 'LANDSAT_PRODUCT_ID'),\n",
    "                                                     suffix)\n",
    "    metadata_name = '%s_%s.xml' % (get_attribute(ls8_metadata, 'LANDSAT_PRODUCT_ID'),\n",
    "                                                     suffix)\n",
    "    \n",
    "    otb_app = otbApplication.Registry.CreateApplication('BandMath')\n",
    "\n",
    "    otb_app.SetParameterStringList('il', [band_1, band_2])\n",
    "\n",
    "    otb_app.SetParameterString('out', output_name)\n",
    "    \n",
    "    otb_app.SetParameterString('exp', 'im1b1 >= 0 && im1b1 <= 1 && im2b1 >= 0 && im2b1 <= 1 ? ( im1b1 - im2b1 ) / ( im1b1 + im2b1 ) : 0 ')\n",
    "\n",
    "    otb_app.ExecuteAndWriteOutput()\n",
    "    \n",
    "    wkt = get_wkt(output_name)\n",
    "    \n",
    "    metadata['identifier'] = output_name\n",
    "\n",
    "    with open(metadata_name, 'wb') as file:\n",
    "        file.write('<?xml version=\"1.0\" encoding=\"UTF-8\"?>\\n')\n",
    "        file.write(eop_metadata(metadata)) \n",
    "    \n",
    "    return True\n",
    "    "
   ]
  },
  {
   "cell_type": "code",
   "execution_count": 127,
   "metadata": {
    "collapsed": true
   },
   "outputs": [],
   "source": [
    "def eop_metadata(metadata):\n",
    "\n",
    "    opt = 'http://www.opengis.net/opt/2.1'\n",
    "    om  = 'http://www.opengis.net/om/2.0'\n",
    "    gml = 'http://www.opengis.net/gml/3.2'\n",
    "    eop = 'http://www.opengis.net/eop/2.1'\n",
    "    sar = 'http://www.opengis.net/sar/2.1'\n",
    "    \n",
    "    root = etree.Element('{%s}EarthObservation' % opt)\n",
    "\n",
    "    phenomenon_time = etree.SubElement(root, '{%s}phenomenonTime' % om)\n",
    "\n",
    "    time_period = etree.SubElement(phenomenon_time, '{%s}TimePeriod' % gml)\n",
    "\n",
    "    begin_position = etree.SubElement(time_period, '{%s}beginPosition'  % gml)\n",
    "\n",
    "    end_position = etree.SubElement(time_period, '{%s}endPosition'  % gml)\n",
    "\n",
    "    procedure = etree.SubElement(root, '{%s}procedure' % om)\n",
    "\n",
    "    earth_observation_equipment = etree.SubElement(procedure, '{%s}EarthObservationEquipment' % eop)\n",
    "\n",
    "    acquisition_parameters = etree.SubElement(earth_observation_equipment, '{%s}acquisitionParameters' % eop)\n",
    "\n",
    "    acquisition = etree.SubElement(acquisition_parameters, '{%s}Acquisition' % sar)\n",
    "\n",
    "    orbit_number = etree.SubElement(acquisition, '{%s}orbitNumber' % eop)\n",
    "\n",
    "    wrs_longitude_grid = etree.SubElement(acquisition, '{%s}wrsLongitudeGrid' % eop)\n",
    "\n",
    "    wrs_latitude_grid = etree.SubElement(acquisition, '{%s}wrsLatitudeGrid' % eop)\n",
    "    \n",
    "    \n",
    "    feature_of_interest = etree.SubElement(root, '{%s}featureOfInterest' % om)\n",
    "    footprint = etree.SubElement(feature_of_interest, '{%s}Footprint' % eop)\n",
    "    multi_extentOf = etree.SubElement(footprint, '{%s}multiExtentOf' % eop)\n",
    "    multi_surface = etree.SubElement(multi_extentOf, '{%s}MultiSurface' % gml)\n",
    "    surface_members = etree.SubElement(multi_surface, '{%s}surfaceMembers' % gml)\n",
    "    polygon = etree.SubElement(surface_members, '{%s}Polygon' % gml)    \n",
    "    exterior = etree.SubElement(polygon, '{%s}exterior' % gml)  \n",
    "    linear_ring = etree.SubElement(exterior, '{%s}LinearRing' % gml) \n",
    "    poslist = etree.SubElement(linear_ring, '{%s}posList' % gml) \n",
    "\n",
    "\n",
    "    result = etree.SubElement(root, '{%s}result' % om)\n",
    "    earth_observation_result = etree.SubElement(result, '{%s}EarthObservationResult' % opt)\n",
    "    cloud_cover_percentage = etree.SubElement(earth_observation_result, '{%s}cloudCoverPercentage' % opt)\n",
    "    \n",
    "    metadata_property = etree.SubElement(root, '{%s}metaDataProperty' % eop)\n",
    "    earth_observation_metadata = etree.SubElement(metadata_property, '{%s}EarthObservationMetaData' % eop)\n",
    "    identifier = etree.SubElement(earth_observation_metadata, '{%s}identifier' % eop)\n",
    "    \n",
    "    begin_position.text = metadata['startdate']\n",
    "    end_position.text = metadata['enddate']\n",
    "    orbit_number.text = metadata['orbitNumber']\n",
    "    wrs_longitude_grid.text = metadata['wrsLongitudeGrid']\n",
    "    wrs_latitude_grid.text = metadata['wrsLatitudeGrid']\n",
    "    \n",
    "    coords = np.asarray([t[::-1] for t in list(loads(metadata['wkt']).exterior.coords)]).tolist()\n",
    " \n",
    "    pos_list = ''\n",
    "    for elem in coords:\n",
    "        pos_list += ' '.join(str(e) for e in elem) + ' '   \n",
    "\n",
    "    poslist.attrib['count'] = str(len(coords))\n",
    "    poslist.text = pos_list\n",
    "    \n",
    "    \n",
    "    identifier.text = metadata['identifier'] \n",
    "\n",
    "    return etree.tostring(root, pretty_print=True)"
   ]
  },
  {
   "cell_type": "code",
   "execution_count": 128,
   "metadata": {
    "collapsed": true
   },
   "outputs": [],
   "source": [
    "def get_wkt(geotiff):\n",
    "\n",
    "    src = gdal.Open(geotiff)\n",
    "    \n",
    "    ulx, xres, xskew, uly, yskew, yres  = src.GetGeoTransform()\n",
    "\n",
    "    max_x = ulx + (src.RasterXSize * xres)\n",
    "    min_y = uly + (src.RasterYSize * yres)\n",
    "    min_x = ulx \n",
    "    max_y = uly\n",
    "\n",
    "    source = osr.SpatialReference()\n",
    "    source.ImportFromWkt(src.GetProjection())\n",
    "\n",
    "    target = osr.SpatialReference()\n",
    "    target.ImportFromEPSG(4326)\n",
    "\n",
    "    transform = osr.CoordinateTransformation(source, target)\n",
    "\n",
    "    result_wkt = box(transform.TransformPoint(min_x, min_y)[0],\n",
    "        transform.TransformPoint(min_x, min_y)[1],\n",
    "        transform.TransformPoint(max_x, max_y)[0],\n",
    "        transform.TransformPoint(max_x, max_y)[1]).wkt\n",
    "                \n",
    "    return result_wkt           "
   ]
  },
  {
   "cell_type": "markdown",
   "metadata": {},
   "source": [
    "#### Read the Landsat 8 product"
   ]
  },
  {
   "cell_type": "code",
   "execution_count": 129,
   "metadata": {
    "collapsed": false
   },
   "outputs": [
    {
     "name": "stdout",
     "output_type": "stream",
     "text": [
      "/workspace/data/LC81540332017216LGN00.tar\n"
     ]
    }
   ],
   "source": [
    "ls8_tar = downloaded_reference\n",
    "print ls8_tar\n",
    "\n",
    "tar = tarfile.open(ls8_tar)\n",
    "tar.extractall()\n",
    "tar.close()"
   ]
  },
  {
   "cell_type": "code",
   "execution_count": 130,
   "metadata": {
    "collapsed": false
   },
   "outputs": [],
   "source": [
    "search_expression = ('*_MTL.txt')"
   ]
  },
  {
   "cell_type": "code",
   "execution_count": 131,
   "metadata": {
    "collapsed": false
   },
   "outputs": [],
   "source": [
    "ls8_metadata = glob.glob(search_expression)[0]"
   ]
  },
  {
   "cell_type": "code",
   "execution_count": 132,
   "metadata": {
    "collapsed": false
   },
   "outputs": [
    {
     "data": {
      "text/plain": [
       "'LC08_L1TP_154033_20170804_20170812_01_T1_MTL.txt'"
      ]
     },
     "execution_count": 132,
     "metadata": {},
     "output_type": "execute_result"
    }
   ],
   "source": [
    "ls8_metadata"
   ]
  },
  {
   "cell_type": "markdown",
   "metadata": {},
   "source": [
    "#### Get the metadata about the Landsat 8 product"
   ]
  },
  {
   "cell_type": "code",
   "execution_count": 133,
   "metadata": {
    "collapsed": true
   },
   "outputs": [
    {
     "name": "stdout",
     "output_type": "stream",
     "text": [
      "{'startdate': '2017-08-04T06:05:13.5800000Z', 'enddate': '2017-08-04T06:05:45.3500000Z', 'swathIdentifier': '', 'wrsLatitudeGrid': '33', 'orbitNumber': '', 'wrsLongitudeGrid': '154', 'identifier': 'LC08_L1TP_154033_20170804_20170812_01_T1', 'wkt': 'POLYGON((67.05402 38.23891,69.16753 37.83637,69.72306 39.55306,67.55813 39.95732,67.05402 38.23891))'}\n"
     ]
    }
   ],
   "source": [
    "ciop = cioppy.Cioppy()\n",
    "\n",
    "ls8_catalogue_metadata = ciop.search(end_point=input_reference,\n",
    "                     params=[],\n",
    "                     output_fields='identifier,startdate,enddate,wkt,orbitNumber,swathIdentifier,wrsLongitudeGrid,wrsLatitudeGrid',\n",
    "                     model='EOP')[0]\n",
    "print ls8_catalogue_metadata"
   ]
  },
  {
   "cell_type": "markdown",
   "metadata": {},
   "source": [
    "#### Process the reflectances"
   ]
  },
  {
   "cell_type": "code",
   "execution_count": 134,
   "metadata": {
    "collapsed": true
   },
   "outputs": [],
   "source": [
    "for band in range(1,10):\n",
    "\n",
    "    dn_to_reflectance(band, ls8_catalogue_metadata)"
   ]
  },
  {
   "cell_type": "markdown",
   "metadata": {},
   "source": [
    "#### Process the vegetation indexes"
   ]
  },
  {
   "cell_type": "code",
   "execution_count": 135,
   "metadata": {
    "collapsed": true
   },
   "outputs": [],
   "source": [
    "for indice in ['NDVI', 'NDWI', 'MNDWI', 'NDBI']:\n",
    "    \n",
    "    if indice == 'NDVI':\n",
    "        band_1 = 5\n",
    "        band_2 = 4\n",
    "    \n",
    "    if indice == 'NDWI':\n",
    "        band_1 = 3\n",
    "        band_2 = 5\n",
    "    \n",
    "    if indice == 'MNDWI':\n",
    "        band_1 = 3\n",
    "        band_2 = 6\n",
    "        \n",
    "    if indice == 'NDBI':\n",
    "        band_1 = 6\n",
    "        band_2 = 5   \n",
    "    \n",
    "    normalized_difference('%s_R%s.TIF' % (get_attribute(ls8_metadata, 'LANDSAT_PRODUCT_ID'), str(band_1)),\n",
    "                          '%s_R%s.TIF' % (get_attribute(ls8_metadata, 'LANDSAT_PRODUCT_ID'), str(band_2)),\n",
    "                          ls8_catalogue_metadata,\n",
    "                          indice)\n",
    "    "
   ]
  },
  {
   "cell_type": "markdown",
   "metadata": {},
   "source": [
    "#### Create the metadata file for Quality Band"
   ]
  },
  {
   "cell_type": "code",
   "execution_count": 136,
   "metadata": {},
   "outputs": [
    {
     "name": "stdout",
     "output_type": "stream",
     "text": [
      "LC08_L1TP_154033_20170804_20170812_01_T1_BQA.xml\n"
     ]
    }
   ],
   "source": [
    "metadata_name = '%s.xml' % (os.path.splitext(get_attribute(ls8_metadata, 'FILE_NAME_BAND_QUALITY'))[0])\n",
    "\n",
    "print metadata_name\n",
    "\n",
    "with open(metadata_name, 'wb') as file:\n",
    "        file.write('<?xml version=\"1.0\" encoding=\"UTF-8\"?>\\n')\n",
    "        file.write(eop_metadata(ls8_catalogue_metadata)) "
   ]
  },
  {
   "cell_type": "markdown",
   "metadata": {},
   "source": [
    "#### Create the properties file for the reproducibility notebooks"
   ]
  },
  {
   "cell_type": "code",
   "execution_count": 137,
   "metadata": {
    "collapsed": true
   },
   "outputs": [],
   "source": [
    "for properties_file in ['result', 'stage-in']:\n",
    "\n",
    "    if properties_file == 'result':\n",
    "        title = 'Reproducibility notebook used for generating %s' % get_attribute(ls8_metadata, 'LANDSAT_PRODUCT_ID')\n",
    "    else: \n",
    "        title = 'Reproducibility stage-in notebook for Landsat8 data for generating %s' % get_attribute(ls8_metadata, 'LANDSAT_PRODUCT_ID')\n",
    "        \n",
    "    with open(properties_file + '.properties', 'wb') as file:\n",
    "        file.write('title=%s\\n' % title)\n",
    "        file.write('date=%s/%s\\n' % (ls8_catalogue_metadata['startdate'], ls8_catalogue_metadata['enddate']))\n",
    "        file.write('geometry=%s' % (ls8_catalogue_metadata['wkt']))"
   ]
  },
  {
   "cell_type": "code",
   "execution_count": 138,
   "metadata": {},
   "outputs": [
    {
     "name": "stdout",
     "output_type": "stream",
     "text": [
      "LC08_L1TP_154033_20170804_20170812_01_T1_BQA.xml\n"
     ]
    }
   ],
   "source": [
    "metadata_name = '%s.xml' % (os.path.splitext(get_attribute(ls8_metadata, 'FILE_NAME_BAND_QUALITY'))[0])\n",
    "\n",
    "print metadata_name\n",
    "\n",
    "with open(metadata_name, 'wb') as file:\n",
    "        file.write('<?xml version=\"1.0\" encoding=\"UTF-8\"?>\\n')\n",
    "        file.write(eop_metadata(ls8_catalogue_metadata)) \n"
   ]
  },
  {
   "cell_type": "markdown",
   "metadata": {},
   "source": [
    "#### Clean-up"
   ]
  },
  {
   "cell_type": "code",
   "execution_count": 139,
   "metadata": {
    "collapsed": false
   },
   "outputs": [],
   "source": [
    "for band in range(1,12):\n",
    "    \n",
    "    os.remove(get_attribute(ls8_metadata, 'FILE_NAME_BAND_' + str(band)))\n",
    "    \n",
    "for ls8_file in [get_attribute(ls8_metadata, 'ANGLE_COEFFICIENT_FILE_NAME'),\n",
    "                 get_attribute(ls8_metadata, 'METADATA_FILE_NAME')]:\n",
    "    \n",
    "    os.remove(ls8_file)"
   ]
  },
  {
   "cell_type": "code",
   "execution_count": null,
   "metadata": {},
   "outputs": [],
   "source": []
  },
  {
   "cell_type": "markdown",
   "metadata": {},
   "source": [
    "### <a name=\"license\">License"
   ]
  },
  {
   "cell_type": "markdown",
   "metadata": {},
   "source": [
    "This work is licenced under a [Attribution-ShareAlike 4.0 International License (CC BY-SA 4.0)](http://creativecommons.org/licenses/by-sa/4.0/) \n",
    "\n",
    "YOU ARE FREE TO:\n",
    "\n",
    "* Share - copy and redistribute the material in any medium or format.\n",
    "* Adapt - remix, transform, and built upon the material for any purpose, even commercially.\n",
    "\n",
    "UNDER THE FOLLOWING TERMS:\n",
    "\n",
    "* Attribution - You must give appropriate credit, provide a link to the license, and indicate if changes were made. You may do so in any reasonable manner, but not in any way that suggests the licensor endorses you or your use.\n",
    "* ShareAlike - If you remix, transform, or build upon the material, you must distribute your contributions under the same license as the original."
   ]
  },
  {
   "cell_type": "code",
   "execution_count": null,
   "metadata": {
    "collapsed": true
   },
   "outputs": [],
   "source": []
  }
 ],
 "metadata": {
  "kernelspec": {
   "display_name": "Python 2",
   "language": "python",
   "name": "python2"
  },
  "language_info": {
   "codemirror_mode": {
    "name": "ipython",
    "version": 2
   },
   "file_extension": ".py",
   "mimetype": "text/x-python",
   "name": "python",
   "nbconvert_exporter": "python",
   "pygments_lexer": "ipython2",
   "version": "2.7.12"
  }
 },
 "nbformat": 4,
 "nbformat_minor": 2
}
