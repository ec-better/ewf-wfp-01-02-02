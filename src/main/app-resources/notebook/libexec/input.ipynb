{
 "cells": [
  {
   "cell_type": "markdown",
   "metadata": {},
   "source": [
    "## WFP-01-02-02 Landsat-8 reflectances and vegetation indices"
   ]
  },
  {
   "cell_type": "markdown",
   "metadata": {},
   "source": [
    "As a land cover change analyst I want to derive the vegetation indices (NDVI, NDWI, MNDWI, NDBI) from Landsat-8 products."
   ]
  },
  {
   "cell_type": "markdown",
   "metadata": {},
   "source": [
    "### <a name=\"service\">Service Definition"
   ]
  },
  {
   "cell_type": "code",
   "execution_count": 1,
   "metadata": {
    "collapsed": true
   },
   "outputs": [],
   "source": [
    "service = dict([('title', 'WFP-01-02-02 Landsat-8 reflectances and vegetation indices'),\n",
    "                ('abstract', 'WFP-01-02-02 Landsat-8 reflectances and vegetation indices'),\n",
    "                ('id', 'ewf-wfp-01-02-02')])"
   ]
  },
  {
   "cell_type": "markdown",
   "metadata": {},
   "source": [
    "### <a name=\"parameter\">Parameter Definition "
   ]
  },
  {
   "cell_type": "markdown",
   "metadata": {},
   "source": [
    "**None**\n"
   ]
  },
  {
   "cell_type": "markdown",
   "metadata": {},
   "source": [
    "### <a name=\"runtime\">Runtime parameter definition"
   ]
  },
  {
   "cell_type": "markdown",
   "metadata": {},
   "source": [
    "**Input identifier**\n",
    "\n",
    "This is the Landsat-8 product identifier"
   ]
  },
  {
   "cell_type": "code",
   "execution_count": 5,
   "metadata": {
    "collapsed": true
   },
   "outputs": [],
   "source": [
    "input_identifier = 'LC81540332017296LGN00'"
   ]
  },
  {
   "cell_type": "markdown",
   "metadata": {},
   "source": [
    "**Input reference**\n",
    "\n",
    "This is the Landsat-8 catalogue reference"
   ]
  },
  {
   "cell_type": "code",
   "execution_count": 6,
   "metadata": {
    "collapsed": false
   },
   "outputs": [],
   "source": [
    "input_reference = 'https://catalog.terradue.com/landsat8/search?format=atom&uid=LC81540332017296LGN00'"
   ]
  },
  {
   "cell_type": "markdown",
   "metadata": {},
   "source": [
    "**Data path**\n",
    "\n",
    "This path defines where the data is staged-in. "
   ]
  },
  {
   "cell_type": "code",
   "execution_count": 7,
   "metadata": {
    "collapsed": true
   },
   "outputs": [],
   "source": [
    "data_path = '/workspace/data'"
   ]
  },
  {
   "cell_type": "markdown",
   "metadata": {},
   "source": [
    "### <a name=\"workflow\">Workflow"
   ]
  },
  {
   "cell_type": "markdown",
   "metadata": {},
   "source": [
    "#### Import the packages required for processing the Landsat-8 vegetation indices"
   ]
  },
  {
   "cell_type": "code",
   "execution_count": 8,
   "metadata": {
    "collapsed": true
   },
   "outputs": [],
   "source": [
    "import os\n",
    "import sys\n",
    "import glob\n",
    "\n",
    "sys.path.append('/opt/OTB-6.2.0/lib/python')\n",
    "sys.path.append('/opt/OTB-6.2.0/lib/libfftw3.so.3')\n",
    "os.environ['OTB_APPLICATION_PATH'] = '/opt/OTB-6.2.0/lib/otb/applications'\n",
    "os.environ['LD_LIBRARY_PATH'] = '/opt/OTB-6.2.0/lib'\n",
    "os.environ['ITK_AUTOLOAD_PATH'] = '/opt/OTB-6.2.0/lib/otb/applications'\n",
    "os.environ['GDAL_DATA'] = '/opt/anaconda/share/gdal/'\n",
    "import otbApplication"
   ]
  },
  {
   "cell_type": "code",
   "execution_count": 9,
   "metadata": {},
   "outputs": [],
   "source": [
    "def get_attribute(mtl_path, attribute):\n",
    "    \n",
    "    mtl = open(mtl_path, 'r')\n",
    "    attribs = mtl.readlines()\n",
    "        \n",
    "    for line in attribs:\n",
    "        \n",
    "        if attribute + ' = ' in line:\n",
    "            return line.split('=')[1].rstrip().strip(' ').strip('\"\"')\n",
    "      "
   ]
  },
  {
   "cell_type": "code",
   "execution_count": 10,
   "metadata": {},
   "outputs": [],
   "source": [
    "def offset(band):\n",
    "    \n",
    "    return get_attribute(ls8_metadata, 'REFLECTANCE_ADD_BAND_' + str(band))"
   ]
  },
  {
   "cell_type": "code",
   "execution_count": 11,
   "metadata": {},
   "outputs": [],
   "source": [
    "def gain(band):\n",
    "    \n",
    "    return get_attribute(ls8_metadata, 'REFLECTANCE_MULT_BAND_' + str(band))"
   ]
  },
  {
   "cell_type": "code",
   "execution_count": 12,
   "metadata": {},
   "outputs": [],
   "source": [
    "def dn_to_reflectance(band):\n",
    "    \n",
    "    ls8_gain = gain(band)\n",
    "    ls8_offset = offset(band)\n",
    "    ls8_band_filename = get_attribute(ls8_metadata, 'FILE_NAME_BAND_' + str(band))\n",
    "    \n",
    "    otb_app = otbApplication.Registry.CreateApplication('BandMath')\n",
    "\n",
    "    otb_app.SetParameterStringList('il', [ls8_band_filename])\n",
    "\n",
    "    otb_app.SetParameterString('out', '%s_R%s.TIF' % (get_attribute(ls8_metadata, 'LANDSAT_PRODUCT_ID'),\n",
    "                                                     str(band)))\n",
    "    \n",
    "    otb_app.SetParameterString('exp', '%s * im1b1 + %s' % (ls8_gain, ls8_offset))\n",
    "\n",
    "    otb_app.ExecuteAndWriteOutput()\n",
    "      \n",
    "    return True\n",
    "    "
   ]
  },
  {
   "cell_type": "code",
   "execution_count": 13,
   "metadata": {},
   "outputs": [],
   "source": [
    "def normalized_difference(band_1, band_2, suffix = ''):\n",
    "    \n",
    "    otb_app = otbApplication.Registry.CreateApplication('BandMath')\n",
    "\n",
    "    otb_app.SetParameterStringList('il', [band_1, band_2])\n",
    "\n",
    "    otb_app.SetParameterString('out', '%s_%s.TIF' % (get_attribute(ls8_metadata, 'LANDSAT_PRODUCT_ID'),\n",
    "                                                     suffix))\n",
    "    \n",
    "    otb_app.SetParameterString('exp', 'im1b1 >= 0 && im1b1 <= 1 && im2b1 >= 0 && im2b1 <= 1 ? ( im1b1 - im2b1 ) / ( im1b1 + im2b1 ) : 0 ')\n",
    "\n",
    "    otb_app.ExecuteAndWriteOutput()\n",
    "      \n",
    "    return True\n",
    "    "
   ]
  },
  {
   "cell_type": "code",
   "execution_count": 14,
   "metadata": {},
   "outputs": [],
   "source": [
    "import tarfile\n",
    "\n",
    "ls8_tar = os.path.join(data_path, input_identifier + '.tar')\n",
    "\n",
    "tar = tarfile.open(ls8_tar)\n",
    "tar.extractall()\n",
    "tar.close()"
   ]
  },
  {
   "cell_type": "code",
   "execution_count": 15,
   "metadata": {
    "collapsed": false
   },
   "outputs": [],
   "source": [
    "search_expression = ('*_MTL.txt')"
   ]
  },
  {
   "cell_type": "code",
   "execution_count": 16,
   "metadata": {
    "collapsed": false
   },
   "outputs": [],
   "source": [
    "ls8_metadata = glob.glob(search_expression)[0]"
   ]
  },
  {
   "cell_type": "code",
   "execution_count": 17,
   "metadata": {},
   "outputs": [
    {
     "data": {
      "text/plain": [
       "'LC08_L1TP_154033_20171023_20171107_01_T1_MTL.txt'"
      ]
     },
     "execution_count": 17,
     "metadata": {},
     "output_type": "execute_result"
    }
   ],
   "source": [
    "ls8_metadata"
   ]
  },
  {
   "cell_type": "markdown",
   "metadata": {},
   "source": [
    "#### Process the reflectances"
   ]
  },
  {
   "cell_type": "code",
   "execution_count": 18,
   "metadata": {},
   "outputs": [
    {
     "name": "stdout",
     "output_type": "stream",
     "text": [
      "1\n",
      "2\n",
      "3\n",
      "4\n",
      "5\n",
      "6\n",
      "7\n",
      "8\n",
      "9\n"
     ]
    }
   ],
   "source": [
    "for band in range(1,10):\n",
    "    print band\n",
    "    dn_to_reflectance(band)\n",
    "\n",
    "\n"
   ]
  },
  {
   "cell_type": "markdown",
   "metadata": {},
   "source": [
    "#### Process the vegetation indexes"
   ]
  },
  {
   "cell_type": "code",
   "execution_count": 19,
   "metadata": {},
   "outputs": [],
   "source": [
    "for indice in ['NDVI', 'NDWI', 'MNDWI', 'NDBI']:\n",
    "    \n",
    "    if indice == 'NDVI':\n",
    "        band_1 = 4\n",
    "        band_2 = 5\n",
    "    \n",
    "    if indice == 'NDWI':\n",
    "        band_1 = 3\n",
    "        band_2 = 5\n",
    "    \n",
    "    if indice == 'MNDWI':\n",
    "        band_1 = 3\n",
    "        band_2 = 6\n",
    "        \n",
    "    if indice == 'NDBI':\n",
    "        band_1 = 5\n",
    "        band_2 = 4   \n",
    "    \n",
    "        \n",
    "    normalized_difference('%s_R%s.TIF' % (get_attribute(ls8_metadata, 'LANDSAT_PRODUCT_ID'), str(band_1)),\n",
    "                          '%s_R%s.TIF' % (get_attribute(ls8_metadata, 'LANDSAT_PRODUCT_ID'), str(band_2)),\n",
    "                          indice)\n",
    "    "
   ]
  },
  {
   "cell_type": "markdown",
   "metadata": {},
   "source": [
    "#### Clean-up"
   ]
  },
  {
   "cell_type": "code",
   "execution_count": 20,
   "metadata": {
    "collapsed": false
   },
   "outputs": [],
   "source": [
    "for band in range(1,12):\n",
    "    \n",
    "    os.remove(get_attribute(ls8_metadata, 'FILE_NAME_BAND_' + str(band)))\n",
    "    \n",
    "for ls8_file in [get_attribute(ls8_metadata, 'FILE_NAME_BAND_QUALITY'),\n",
    "                 get_attribute(ls8_metadata, 'ANGLE_COEFFICIENT_FILE_NAME'),\n",
    "                 get_attribute(ls8_metadata, 'METADATA_FILE_NAME')]:\n",
    "    \n",
    "    os.remove(ls8_file)"
   ]
  },
  {
   "cell_type": "markdown",
   "metadata": {},
   "source": [
    "#### Metadata"
   ]
  },
  {
   "cell_type": "markdown",
   "metadata": {},
   "source": [
    "### <a name=\"license\">License"
   ]
  },
  {
   "cell_type": "markdown",
   "metadata": {},
   "source": [
    "This work is licenced under a [Attribution-ShareAlike 4.0 International License (CC BY-SA 4.0)](http://creativecommons.org/licenses/by-sa/4.0/) \n",
    "\n",
    "YOU ARE FREE TO:\n",
    "\n",
    "* Share - copy and redistribute the material in any medium or format.\n",
    "* Adapt - remix, transform, and built upon the material for any purpose, even commercially.\n",
    "\n",
    "UNDER THE FOLLOWING TERMS:\n",
    "\n",
    "* Attribution - You must give appropriate credit, provide a link to the license, and indicate if changes were made. You may do so in any reasonable manner, but not in any way that suggests the licensor endorses you or your use.\n",
    "* ShareAlike - If you remix, transform, or build upon the material, you must distribute your contributions under the same license as the original."
   ]
  },
  {
   "cell_type": "code",
   "execution_count": null,
   "metadata": {
    "collapsed": true
   },
   "outputs": [],
   "source": []
  }
 ],
 "metadata": {
  "kernelspec": {
   "display_name": "Python 2",
   "language": "python",
   "name": "python2"
  },
  "language_info": {
   "codemirror_mode": {
    "name": "ipython",
    "version": 2
   },
   "file_extension": ".py",
   "mimetype": "text/x-python",
   "name": "python",
   "nbconvert_exporter": "python",
   "pygments_lexer": "ipython2",
   "version": "2.7.12"
  }
 },
 "nbformat": 4,
 "nbformat_minor": 2
}
